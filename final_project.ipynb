{
 "cells": [
  {
   "cell_type": "markdown",
   "metadata": {},
   "source": [
    "# DATA 200 Final Project (Peng Gu, Xi Chen, Kewei Sui)"
   ]
  },
  {
   "cell_type": "code",
   "execution_count": 37,
   "metadata": {},
   "outputs": [],
   "source": [
    "# import all packages\n",
    "import numpy as np\n",
    "import pandas as pd\n",
    "import datetime\n",
    "import matplotlib.pyplot as plt\n",
    "%matplotlib inline\n",
    "\n",
    "import seaborn as sns\n",
    "sns.set(style = \"whitegrid\", \n",
    "        color_codes = True,\n",
    "        font_scale = 1.5)"
   ]
  },
  {
   "cell_type": "code",
   "execution_count": 42,
   "metadata": {},
   "outputs": [
    {
     "output_type": "execute_result",
     "data": {
      "text/plain": "      gmDate gmTime  seasTyp playLNm  playFNm teamAbbr teamConf    teamDiv  \\\n0 2012-10-30  19:00  Regular   Price     A.J.      WAS     East  Southeast   \n1 2012-10-30  19:00  Regular   Ariza   Trevor      WAS     East  Southeast   \n2 2012-10-30  19:00  Regular  Okafor    Emeka      WAS     East  Southeast   \n3 2012-10-30  19:00  Regular    Beal  Bradley      WAS     East  Southeast   \n4 2012-10-30  19:00  Regular  Booker   Trevor      WAS     East  Southeast   \n\n  teamLoc teamRslt  ...  playFT% playORB playDRB playTRB opptAbbr opptConf  \\\n0    Away     Loss  ...      1.0       1       1       2      CLE     East   \n1    Away     Loss  ...      0.5       1       2       3      CLE     East   \n2    Away     Loss  ...      0.5       5       2       7      CLE     East   \n3    Away     Loss  ...      1.0       0       3       3      CLE     East   \n4    Away     Loss  ...      0.0       1       0       1      CLE     East   \n\n   opptDiv opptLoc opptRslt  opptDayOff  \n0  Central    Home      Win           0  \n1  Central    Home      Win           0  \n2  Central    Home      Win           0  \n3  Central    Home      Win           0  \n4  Central    Home      Win           0  \n\n[5 rows x 51 columns]",
      "text/html": "<div>\n<style scoped>\n    .dataframe tbody tr th:only-of-type {\n        vertical-align: middle;\n    }\n\n    .dataframe tbody tr th {\n        vertical-align: top;\n    }\n\n    .dataframe thead th {\n        text-align: right;\n    }\n</style>\n<table border=\"1\" class=\"dataframe\">\n  <thead>\n    <tr style=\"text-align: right;\">\n      <th></th>\n      <th>gmDate</th>\n      <th>gmTime</th>\n      <th>seasTyp</th>\n      <th>playLNm</th>\n      <th>playFNm</th>\n      <th>teamAbbr</th>\n      <th>teamConf</th>\n      <th>teamDiv</th>\n      <th>teamLoc</th>\n      <th>teamRslt</th>\n      <th>...</th>\n      <th>playFT%</th>\n      <th>playORB</th>\n      <th>playDRB</th>\n      <th>playTRB</th>\n      <th>opptAbbr</th>\n      <th>opptConf</th>\n      <th>opptDiv</th>\n      <th>opptLoc</th>\n      <th>opptRslt</th>\n      <th>opptDayOff</th>\n    </tr>\n  </thead>\n  <tbody>\n    <tr>\n      <th>0</th>\n      <td>2012-10-30</td>\n      <td>19:00</td>\n      <td>Regular</td>\n      <td>Price</td>\n      <td>A.J.</td>\n      <td>WAS</td>\n      <td>East</td>\n      <td>Southeast</td>\n      <td>Away</td>\n      <td>Loss</td>\n      <td>...</td>\n      <td>1.0</td>\n      <td>1</td>\n      <td>1</td>\n      <td>2</td>\n      <td>CLE</td>\n      <td>East</td>\n      <td>Central</td>\n      <td>Home</td>\n      <td>Win</td>\n      <td>0</td>\n    </tr>\n    <tr>\n      <th>1</th>\n      <td>2012-10-30</td>\n      <td>19:00</td>\n      <td>Regular</td>\n      <td>Ariza</td>\n      <td>Trevor</td>\n      <td>WAS</td>\n      <td>East</td>\n      <td>Southeast</td>\n      <td>Away</td>\n      <td>Loss</td>\n      <td>...</td>\n      <td>0.5</td>\n      <td>1</td>\n      <td>2</td>\n      <td>3</td>\n      <td>CLE</td>\n      <td>East</td>\n      <td>Central</td>\n      <td>Home</td>\n      <td>Win</td>\n      <td>0</td>\n    </tr>\n    <tr>\n      <th>2</th>\n      <td>2012-10-30</td>\n      <td>19:00</td>\n      <td>Regular</td>\n      <td>Okafor</td>\n      <td>Emeka</td>\n      <td>WAS</td>\n      <td>East</td>\n      <td>Southeast</td>\n      <td>Away</td>\n      <td>Loss</td>\n      <td>...</td>\n      <td>0.5</td>\n      <td>5</td>\n      <td>2</td>\n      <td>7</td>\n      <td>CLE</td>\n      <td>East</td>\n      <td>Central</td>\n      <td>Home</td>\n      <td>Win</td>\n      <td>0</td>\n    </tr>\n    <tr>\n      <th>3</th>\n      <td>2012-10-30</td>\n      <td>19:00</td>\n      <td>Regular</td>\n      <td>Beal</td>\n      <td>Bradley</td>\n      <td>WAS</td>\n      <td>East</td>\n      <td>Southeast</td>\n      <td>Away</td>\n      <td>Loss</td>\n      <td>...</td>\n      <td>1.0</td>\n      <td>0</td>\n      <td>3</td>\n      <td>3</td>\n      <td>CLE</td>\n      <td>East</td>\n      <td>Central</td>\n      <td>Home</td>\n      <td>Win</td>\n      <td>0</td>\n    </tr>\n    <tr>\n      <th>4</th>\n      <td>2012-10-30</td>\n      <td>19:00</td>\n      <td>Regular</td>\n      <td>Booker</td>\n      <td>Trevor</td>\n      <td>WAS</td>\n      <td>East</td>\n      <td>Southeast</td>\n      <td>Away</td>\n      <td>Loss</td>\n      <td>...</td>\n      <td>0.0</td>\n      <td>1</td>\n      <td>0</td>\n      <td>1</td>\n      <td>CLE</td>\n      <td>East</td>\n      <td>Central</td>\n      <td>Home</td>\n      <td>Win</td>\n      <td>0</td>\n    </tr>\n  </tbody>\n</table>\n<p>5 rows × 51 columns</p>\n</div>"
     },
     "metadata": {},
     "execution_count": 42
    }
   ],
   "source": [
    "# import all datasets\n",
    "# df_college = pd.read_csv('dataset/college.csv')\n",
    "df_player = pd.read_csv('dataset/2012-18_playerBoxScore.csv')\n",
    "df_player['gmDate'] = pd.to_datetime(df_player['gmDate'], format='%Y-%m-%d')\n",
    "df_player.head()"
   ]
  },
  {
   "cell_type": "code",
   "execution_count": 43,
   "metadata": {},
   "outputs": [
    {
     "output_type": "execute_result",
     "data": {
      "text/plain": "           gmDate gmTime  seasTyp       playLNm   playFNm teamAbbr teamConf  \\\n155703 2018-04-11  10:30  Regular        Onuaku   Chinanu      HOU     West   \n155704 2018-04-11  10:30  Regular    Bogdanovic    Bogdan      SAC     West   \n155705 2018-04-11  10:30  Regular       Jackson    Justin      SAC     West   \n155706 2018-04-11  10:30  Regular  Cauley-Stein    Willie      SAC     West   \n155707 2018-04-11  10:30  Regular           Fox  De'Aaron      SAC     West   \n155708 2018-04-11  10:30  Regular       Sampson    JaKarr      SAC     West   \n155709 2018-04-11  10:30  Regular         Hield   Chavano      SAC     West   \n155710 2018-04-11  10:30  Regular         Hayes     Nigel      SAC     West   \n155711 2018-04-11  10:30  Regular        Carter   Vincent      SAC     West   \n155712 2018-04-11  10:30  Regular        Cooley      Jack      SAC     West   \n\n          teamDiv teamLoc teamRslt  ...  playORB playDRB playTRB opptAbbr  \\\n155703  Southwest    Away     Loss  ...        1       3       4      SAC   \n155704    Pacific    Home      Win  ...        0       5       5      HOU   \n155705    Pacific    Home      Win  ...        0       4       4      HOU   \n155706    Pacific    Home      Win  ...        1      10      11      HOU   \n155707    Pacific    Home      Win  ...        1       7       8      HOU   \n155708    Pacific    Home      Win  ...        0       4       4      HOU   \n155709    Pacific    Home      Win  ...        2       3       5      HOU   \n155710    Pacific    Home      Win  ...        1       3       4      HOU   \n155711    Pacific    Home      Win  ...        0       3       3      HOU   \n155712    Pacific    Home      Win  ...        1       3       4      HOU   \n\n       opptConf    opptDiv opptLoc opptRslt opptDayOff  seasYear  \n155703     West    Pacific    Home      Win          2      2017  \n155704     West  Southwest    Away     Loss          1      2017  \n155705     West  Southwest    Away     Loss          1      2017  \n155706     West  Southwest    Away     Loss          1      2017  \n155707     West  Southwest    Away     Loss          1      2017  \n155708     West  Southwest    Away     Loss          1      2017  \n155709     West  Southwest    Away     Loss          1      2017  \n155710     West  Southwest    Away     Loss          1      2017  \n155711     West  Southwest    Away     Loss          1      2017  \n155712     West  Southwest    Away     Loss          1      2017  \n\n[10 rows x 52 columns]",
      "text/html": "<div>\n<style scoped>\n    .dataframe tbody tr th:only-of-type {\n        vertical-align: middle;\n    }\n\n    .dataframe tbody tr th {\n        vertical-align: top;\n    }\n\n    .dataframe thead th {\n        text-align: right;\n    }\n</style>\n<table border=\"1\" class=\"dataframe\">\n  <thead>\n    <tr style=\"text-align: right;\">\n      <th></th>\n      <th>gmDate</th>\n      <th>gmTime</th>\n      <th>seasTyp</th>\n      <th>playLNm</th>\n      <th>playFNm</th>\n      <th>teamAbbr</th>\n      <th>teamConf</th>\n      <th>teamDiv</th>\n      <th>teamLoc</th>\n      <th>teamRslt</th>\n      <th>...</th>\n      <th>playORB</th>\n      <th>playDRB</th>\n      <th>playTRB</th>\n      <th>opptAbbr</th>\n      <th>opptConf</th>\n      <th>opptDiv</th>\n      <th>opptLoc</th>\n      <th>opptRslt</th>\n      <th>opptDayOff</th>\n      <th>seasYear</th>\n    </tr>\n  </thead>\n  <tbody>\n    <tr>\n      <th>155703</th>\n      <td>2018-04-11</td>\n      <td>10:30</td>\n      <td>Regular</td>\n      <td>Onuaku</td>\n      <td>Chinanu</td>\n      <td>HOU</td>\n      <td>West</td>\n      <td>Southwest</td>\n      <td>Away</td>\n      <td>Loss</td>\n      <td>...</td>\n      <td>1</td>\n      <td>3</td>\n      <td>4</td>\n      <td>SAC</td>\n      <td>West</td>\n      <td>Pacific</td>\n      <td>Home</td>\n      <td>Win</td>\n      <td>2</td>\n      <td>2017</td>\n    </tr>\n    <tr>\n      <th>155704</th>\n      <td>2018-04-11</td>\n      <td>10:30</td>\n      <td>Regular</td>\n      <td>Bogdanovic</td>\n      <td>Bogdan</td>\n      <td>SAC</td>\n      <td>West</td>\n      <td>Pacific</td>\n      <td>Home</td>\n      <td>Win</td>\n      <td>...</td>\n      <td>0</td>\n      <td>5</td>\n      <td>5</td>\n      <td>HOU</td>\n      <td>West</td>\n      <td>Southwest</td>\n      <td>Away</td>\n      <td>Loss</td>\n      <td>1</td>\n      <td>2017</td>\n    </tr>\n    <tr>\n      <th>155705</th>\n      <td>2018-04-11</td>\n      <td>10:30</td>\n      <td>Regular</td>\n      <td>Jackson</td>\n      <td>Justin</td>\n      <td>SAC</td>\n      <td>West</td>\n      <td>Pacific</td>\n      <td>Home</td>\n      <td>Win</td>\n      <td>...</td>\n      <td>0</td>\n      <td>4</td>\n      <td>4</td>\n      <td>HOU</td>\n      <td>West</td>\n      <td>Southwest</td>\n      <td>Away</td>\n      <td>Loss</td>\n      <td>1</td>\n      <td>2017</td>\n    </tr>\n    <tr>\n      <th>155706</th>\n      <td>2018-04-11</td>\n      <td>10:30</td>\n      <td>Regular</td>\n      <td>Cauley-Stein</td>\n      <td>Willie</td>\n      <td>SAC</td>\n      <td>West</td>\n      <td>Pacific</td>\n      <td>Home</td>\n      <td>Win</td>\n      <td>...</td>\n      <td>1</td>\n      <td>10</td>\n      <td>11</td>\n      <td>HOU</td>\n      <td>West</td>\n      <td>Southwest</td>\n      <td>Away</td>\n      <td>Loss</td>\n      <td>1</td>\n      <td>2017</td>\n    </tr>\n    <tr>\n      <th>155707</th>\n      <td>2018-04-11</td>\n      <td>10:30</td>\n      <td>Regular</td>\n      <td>Fox</td>\n      <td>De'Aaron</td>\n      <td>SAC</td>\n      <td>West</td>\n      <td>Pacific</td>\n      <td>Home</td>\n      <td>Win</td>\n      <td>...</td>\n      <td>1</td>\n      <td>7</td>\n      <td>8</td>\n      <td>HOU</td>\n      <td>West</td>\n      <td>Southwest</td>\n      <td>Away</td>\n      <td>Loss</td>\n      <td>1</td>\n      <td>2017</td>\n    </tr>\n    <tr>\n      <th>155708</th>\n      <td>2018-04-11</td>\n      <td>10:30</td>\n      <td>Regular</td>\n      <td>Sampson</td>\n      <td>JaKarr</td>\n      <td>SAC</td>\n      <td>West</td>\n      <td>Pacific</td>\n      <td>Home</td>\n      <td>Win</td>\n      <td>...</td>\n      <td>0</td>\n      <td>4</td>\n      <td>4</td>\n      <td>HOU</td>\n      <td>West</td>\n      <td>Southwest</td>\n      <td>Away</td>\n      <td>Loss</td>\n      <td>1</td>\n      <td>2017</td>\n    </tr>\n    <tr>\n      <th>155709</th>\n      <td>2018-04-11</td>\n      <td>10:30</td>\n      <td>Regular</td>\n      <td>Hield</td>\n      <td>Chavano</td>\n      <td>SAC</td>\n      <td>West</td>\n      <td>Pacific</td>\n      <td>Home</td>\n      <td>Win</td>\n      <td>...</td>\n      <td>2</td>\n      <td>3</td>\n      <td>5</td>\n      <td>HOU</td>\n      <td>West</td>\n      <td>Southwest</td>\n      <td>Away</td>\n      <td>Loss</td>\n      <td>1</td>\n      <td>2017</td>\n    </tr>\n    <tr>\n      <th>155710</th>\n      <td>2018-04-11</td>\n      <td>10:30</td>\n      <td>Regular</td>\n      <td>Hayes</td>\n      <td>Nigel</td>\n      <td>SAC</td>\n      <td>West</td>\n      <td>Pacific</td>\n      <td>Home</td>\n      <td>Win</td>\n      <td>...</td>\n      <td>1</td>\n      <td>3</td>\n      <td>4</td>\n      <td>HOU</td>\n      <td>West</td>\n      <td>Southwest</td>\n      <td>Away</td>\n      <td>Loss</td>\n      <td>1</td>\n      <td>2017</td>\n    </tr>\n    <tr>\n      <th>155711</th>\n      <td>2018-04-11</td>\n      <td>10:30</td>\n      <td>Regular</td>\n      <td>Carter</td>\n      <td>Vincent</td>\n      <td>SAC</td>\n      <td>West</td>\n      <td>Pacific</td>\n      <td>Home</td>\n      <td>Win</td>\n      <td>...</td>\n      <td>0</td>\n      <td>3</td>\n      <td>3</td>\n      <td>HOU</td>\n      <td>West</td>\n      <td>Southwest</td>\n      <td>Away</td>\n      <td>Loss</td>\n      <td>1</td>\n      <td>2017</td>\n    </tr>\n    <tr>\n      <th>155712</th>\n      <td>2018-04-11</td>\n      <td>10:30</td>\n      <td>Regular</td>\n      <td>Cooley</td>\n      <td>Jack</td>\n      <td>SAC</td>\n      <td>West</td>\n      <td>Pacific</td>\n      <td>Home</td>\n      <td>Win</td>\n      <td>...</td>\n      <td>1</td>\n      <td>3</td>\n      <td>4</td>\n      <td>HOU</td>\n      <td>West</td>\n      <td>Southwest</td>\n      <td>Away</td>\n      <td>Loss</td>\n      <td>1</td>\n      <td>2017</td>\n    </tr>\n  </tbody>\n</table>\n<p>10 rows × 52 columns</p>\n</div>"
     },
     "metadata": {},
     "execution_count": 43
    }
   ],
   "source": [
    "start_dates = ['2012-10-30', '2013-10-29', '2014-10-28', '2015-10-27','2016-10-25','2017-10-17','2018-10-16']\n",
    "for i in range(len(start_dates)):\n",
    "    start_dates[i] = datetime.datetime.strptime(start_dates[i],'%Y-%m-%d')\n",
    "# print(start_dates)\n",
    "def setSeasons(gm_date):\n",
    "    for i in range(len(start_dates) - 1):\n",
    "        if gm_date >= start_dates[i] and gm_date < start_dates[i + 1]:\n",
    "            return start_dates[i].year\n",
    "df_player[\"seasYear\"] = df_player['gmDate'].apply(lambda x:setSeasons(x))\n",
    "df_player.tail(10)"
   ]
  },
  {
   "cell_type": "code",
   "execution_count": 44,
   "metadata": {},
   "outputs": [
    {
     "output_type": "execute_result",
     "data": {
      "text/plain": "Index(['gmDate', 'gmTime', 'seasTyp', 'playLNm', 'playFNm', 'teamAbbr',\n       'teamConf', 'teamDiv', 'teamLoc', 'teamRslt', 'teamDayOff', 'offLNm1',\n       'offFNm1', 'offLNm2', 'offFNm2', 'offLNm3', 'offFNm3', 'playDispNm',\n       'playStat', 'playMin', 'playPos', 'playHeight', 'playWeight',\n       'playBDate', 'playPTS', 'playAST', 'playTO', 'playSTL', 'playBLK',\n       'playPF', 'playFGA', 'playFGM', 'playFG%', 'play2PA', 'play2PM',\n       'play2P%', 'play3PA', 'play3PM', 'play3P%', 'playFTA', 'playFTM',\n       'playFT%', 'playORB', 'playDRB', 'playTRB', 'opptAbbr', 'opptConf',\n       'opptDiv', 'opptLoc', 'opptRslt', 'opptDayOff', 'seasYear'],\n      dtype='object')"
     },
     "metadata": {},
     "execution_count": 44
    }
   ],
   "source": [
    "df_player = df_player[df_player.seasTyp != 'Pre']\n",
    "df_player.columns"
   ]
  },
  {
   "cell_type": "code",
   "execution_count": 46,
   "metadata": {},
   "outputs": [
    {
     "output_type": "execute_result",
     "data": {
      "text/plain": "      gmDate gmTime  seasTyp    playLNm  playFNm teamAbbr teamConf    teamDiv  \\\n0 2012-10-30  19:00  Regular      Price     A.J.      WAS     East  Southeast   \n1 2012-10-30  19:00  Regular      Ariza   Trevor      WAS     East  Southeast   \n2 2012-10-30  19:00  Regular     Okafor    Emeka      WAS     East  Southeast   \n3 2012-10-30  19:00  Regular       Beal  Bradley      WAS     East  Southeast   \n4 2012-10-30  19:00  Regular     Booker   Trevor      WAS     East  Southeast   \n5 2012-10-30  19:00  Regular   Crawford   Jordan      WAS     East  Southeast   \n6 2012-10-30  19:00  Regular    Webster  Martell      WAS     East  Southeast   \n7 2012-10-30  19:00  Regular     Vesely      Jan      WAS     East  Southeast   \n8 2012-10-30  19:00  Regular  Singleton    Chris      WAS     East  Southeast   \n9 2012-10-30  19:00  Regular     Barron     Earl      WAS     East  Southeast   \n\n  teamLoc teamRslt  ...  playORB playDRB playTRB opptAbbr opptConf  opptDiv  \\\n0    Away     Loss  ...        1       1       2      CLE     East  Central   \n1    Away     Loss  ...        1       2       3      CLE     East  Central   \n2    Away     Loss  ...        5       2       7      CLE     East  Central   \n3    Away     Loss  ...        0       3       3      CLE     East  Central   \n4    Away     Loss  ...        1       0       1      CLE     East  Central   \n5    Away     Loss  ...        1       2       3      CLE     East  Central   \n6    Away     Loss  ...        0       3       3      CLE     East  Central   \n7    Away     Loss  ...        3       1       4      CLE     East  Central   \n8    Away     Loss  ...        2       2       4      CLE     East  Central   \n9    Away     Loss  ...        4       4       8      CLE     East  Central   \n\n  opptLoc opptRslt opptDayOff  seasYear  \n0    Home      Win          0      2012  \n1    Home      Win          0      2012  \n2    Home      Win          0      2012  \n3    Home      Win          0      2012  \n4    Home      Win          0      2012  \n5    Home      Win          0      2012  \n6    Home      Win          0      2012  \n7    Home      Win          0      2012  \n8    Home      Win          0      2012  \n9    Home      Win          0      2012  \n\n[10 rows x 52 columns]",
      "text/html": "<div>\n<style scoped>\n    .dataframe tbody tr th:only-of-type {\n        vertical-align: middle;\n    }\n\n    .dataframe tbody tr th {\n        vertical-align: top;\n    }\n\n    .dataframe thead th {\n        text-align: right;\n    }\n</style>\n<table border=\"1\" class=\"dataframe\">\n  <thead>\n    <tr style=\"text-align: right;\">\n      <th></th>\n      <th>gmDate</th>\n      <th>gmTime</th>\n      <th>seasTyp</th>\n      <th>playLNm</th>\n      <th>playFNm</th>\n      <th>teamAbbr</th>\n      <th>teamConf</th>\n      <th>teamDiv</th>\n      <th>teamLoc</th>\n      <th>teamRslt</th>\n      <th>...</th>\n      <th>playORB</th>\n      <th>playDRB</th>\n      <th>playTRB</th>\n      <th>opptAbbr</th>\n      <th>opptConf</th>\n      <th>opptDiv</th>\n      <th>opptLoc</th>\n      <th>opptRslt</th>\n      <th>opptDayOff</th>\n      <th>seasYear</th>\n    </tr>\n  </thead>\n  <tbody>\n    <tr>\n      <th>0</th>\n      <td>2012-10-30</td>\n      <td>19:00</td>\n      <td>Regular</td>\n      <td>Price</td>\n      <td>A.J.</td>\n      <td>WAS</td>\n      <td>East</td>\n      <td>Southeast</td>\n      <td>Away</td>\n      <td>Loss</td>\n      <td>...</td>\n      <td>1</td>\n      <td>1</td>\n      <td>2</td>\n      <td>CLE</td>\n      <td>East</td>\n      <td>Central</td>\n      <td>Home</td>\n      <td>Win</td>\n      <td>0</td>\n      <td>2012</td>\n    </tr>\n    <tr>\n      <th>1</th>\n      <td>2012-10-30</td>\n      <td>19:00</td>\n      <td>Regular</td>\n      <td>Ariza</td>\n      <td>Trevor</td>\n      <td>WAS</td>\n      <td>East</td>\n      <td>Southeast</td>\n      <td>Away</td>\n      <td>Loss</td>\n      <td>...</td>\n      <td>1</td>\n      <td>2</td>\n      <td>3</td>\n      <td>CLE</td>\n      <td>East</td>\n      <td>Central</td>\n      <td>Home</td>\n      <td>Win</td>\n      <td>0</td>\n      <td>2012</td>\n    </tr>\n    <tr>\n      <th>2</th>\n      <td>2012-10-30</td>\n      <td>19:00</td>\n      <td>Regular</td>\n      <td>Okafor</td>\n      <td>Emeka</td>\n      <td>WAS</td>\n      <td>East</td>\n      <td>Southeast</td>\n      <td>Away</td>\n      <td>Loss</td>\n      <td>...</td>\n      <td>5</td>\n      <td>2</td>\n      <td>7</td>\n      <td>CLE</td>\n      <td>East</td>\n      <td>Central</td>\n      <td>Home</td>\n      <td>Win</td>\n      <td>0</td>\n      <td>2012</td>\n    </tr>\n    <tr>\n      <th>3</th>\n      <td>2012-10-30</td>\n      <td>19:00</td>\n      <td>Regular</td>\n      <td>Beal</td>\n      <td>Bradley</td>\n      <td>WAS</td>\n      <td>East</td>\n      <td>Southeast</td>\n      <td>Away</td>\n      <td>Loss</td>\n      <td>...</td>\n      <td>0</td>\n      <td>3</td>\n      <td>3</td>\n      <td>CLE</td>\n      <td>East</td>\n      <td>Central</td>\n      <td>Home</td>\n      <td>Win</td>\n      <td>0</td>\n      <td>2012</td>\n    </tr>\n    <tr>\n      <th>4</th>\n      <td>2012-10-30</td>\n      <td>19:00</td>\n      <td>Regular</td>\n      <td>Booker</td>\n      <td>Trevor</td>\n      <td>WAS</td>\n      <td>East</td>\n      <td>Southeast</td>\n      <td>Away</td>\n      <td>Loss</td>\n      <td>...</td>\n      <td>1</td>\n      <td>0</td>\n      <td>1</td>\n      <td>CLE</td>\n      <td>East</td>\n      <td>Central</td>\n      <td>Home</td>\n      <td>Win</td>\n      <td>0</td>\n      <td>2012</td>\n    </tr>\n    <tr>\n      <th>5</th>\n      <td>2012-10-30</td>\n      <td>19:00</td>\n      <td>Regular</td>\n      <td>Crawford</td>\n      <td>Jordan</td>\n      <td>WAS</td>\n      <td>East</td>\n      <td>Southeast</td>\n      <td>Away</td>\n      <td>Loss</td>\n      <td>...</td>\n      <td>1</td>\n      <td>2</td>\n      <td>3</td>\n      <td>CLE</td>\n      <td>East</td>\n      <td>Central</td>\n      <td>Home</td>\n      <td>Win</td>\n      <td>0</td>\n      <td>2012</td>\n    </tr>\n    <tr>\n      <th>6</th>\n      <td>2012-10-30</td>\n      <td>19:00</td>\n      <td>Regular</td>\n      <td>Webster</td>\n      <td>Martell</td>\n      <td>WAS</td>\n      <td>East</td>\n      <td>Southeast</td>\n      <td>Away</td>\n      <td>Loss</td>\n      <td>...</td>\n      <td>0</td>\n      <td>3</td>\n      <td>3</td>\n      <td>CLE</td>\n      <td>East</td>\n      <td>Central</td>\n      <td>Home</td>\n      <td>Win</td>\n      <td>0</td>\n      <td>2012</td>\n    </tr>\n    <tr>\n      <th>7</th>\n      <td>2012-10-30</td>\n      <td>19:00</td>\n      <td>Regular</td>\n      <td>Vesely</td>\n      <td>Jan</td>\n      <td>WAS</td>\n      <td>East</td>\n      <td>Southeast</td>\n      <td>Away</td>\n      <td>Loss</td>\n      <td>...</td>\n      <td>3</td>\n      <td>1</td>\n      <td>4</td>\n      <td>CLE</td>\n      <td>East</td>\n      <td>Central</td>\n      <td>Home</td>\n      <td>Win</td>\n      <td>0</td>\n      <td>2012</td>\n    </tr>\n    <tr>\n      <th>8</th>\n      <td>2012-10-30</td>\n      <td>19:00</td>\n      <td>Regular</td>\n      <td>Singleton</td>\n      <td>Chris</td>\n      <td>WAS</td>\n      <td>East</td>\n      <td>Southeast</td>\n      <td>Away</td>\n      <td>Loss</td>\n      <td>...</td>\n      <td>2</td>\n      <td>2</td>\n      <td>4</td>\n      <td>CLE</td>\n      <td>East</td>\n      <td>Central</td>\n      <td>Home</td>\n      <td>Win</td>\n      <td>0</td>\n      <td>2012</td>\n    </tr>\n    <tr>\n      <th>9</th>\n      <td>2012-10-30</td>\n      <td>19:00</td>\n      <td>Regular</td>\n      <td>Barron</td>\n      <td>Earl</td>\n      <td>WAS</td>\n      <td>East</td>\n      <td>Southeast</td>\n      <td>Away</td>\n      <td>Loss</td>\n      <td>...</td>\n      <td>4</td>\n      <td>4</td>\n      <td>8</td>\n      <td>CLE</td>\n      <td>East</td>\n      <td>Central</td>\n      <td>Home</td>\n      <td>Win</td>\n      <td>0</td>\n      <td>2012</td>\n    </tr>\n  </tbody>\n</table>\n<p>10 rows × 52 columns</p>\n</div>"
     },
     "metadata": {},
     "execution_count": 46
    }
   ],
   "source": [
    "# def fillEmptyOffName(curr_row):\n",
    "    # if pd.isna(curr_row['offLNm3']):\n",
    "    #     curr_row['offLNm3'] = curr_row['offLNm2']\n",
    "    # if pd.isna(curr_row['offFNm3']):\n",
    "    #     curr_row['offFNm3'] = curr_row['offFNm2']\n",
    "df_player['offLNm3'] = df_player['offLNm3'].fillna(df_player['offLNm2'])\n",
    "df_player['offFNm3'] = df_player['offFNm3'].fillna(df_player['offFNm2'])\n",
    "\n",
    "# df_player = df_player.apply(lambda x : fillEmptyOffName(x), axis=1)\n",
    "# df_player = df_player.drop(columns=['B', 'C'])\n",
    "df_player.head(10)"
   ]
  },
  {
   "cell_type": "code",
   "execution_count": null,
   "metadata": {},
   "outputs": [],
   "source": []
  }
 ],
 "metadata": {
  "language_info": {
   "codemirror_mode": {
    "name": "ipython",
    "version": 3
   },
   "file_extension": ".py",
   "mimetype": "text/x-python",
   "name": "python",
   "nbconvert_exporter": "python",
   "pygments_lexer": "ipython3",
   "version": "3.7.4-final"
  },
  "orig_nbformat": 2,
  "kernelspec": {
   "name": "python37432bitvenvvenv44deada86dba45d7a8ff0578f91cb8fa",
   "display_name": "Python 3.7.4 32-bit ('venv': venv)"
  }
 },
 "nbformat": 4,
 "nbformat_minor": 2
}