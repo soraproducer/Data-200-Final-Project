{
 "cells": [
  {
   "cell_type": "markdown",
   "metadata": {},
   "source": [
    "# DATA 200 Final Project (Peng Gu, Xi Chen, Kewei Sui)"
   ]
  },
  {
   "cell_type": "code",
   "execution_count": 3,
   "metadata": {},
   "outputs": [],
   "source": [
    "# import all packages\n",
    "import numpy as np\n",
    "import pandas as pd\n",
    "\n",
    "import matplotlib.pyplot as plt\n",
    "%matplotlib inline\n",
    "\n",
    "import seaborn as sns\n",
    "sns.set(style = \"whitegrid\", \n",
    "        color_codes = True,\n",
    "        font_scale = 1.5)"
   ]
  },
  {
   "cell_type": "code",
   "execution_count": 4,
   "metadata": {},
   "outputs": [
    {
     "output_type": "stream",
     "name": "stdout",
     "text": "Hello World\n"
    }
   ],
   "source": [
    "msg = \"Hello World\"\n",
    "print(msg)"
   ]
  },
  {
   "cell_type": "code",
   "execution_count": 8,
   "metadata": {},
   "outputs": [
    {
     "output_type": "execute_result",
     "data": {
      "text/plain": "               Country_Region          Last_Update      Lat     Long_  \\\nProvince_State                                                          \nAlabama                    US  2020-05-05 02:32:38  32.3182  -86.9023   \nAlaska                     US  2020-05-05 02:32:38  61.3707 -152.4044   \nAmerican Samoa             US  2020-05-05 02:32:38 -14.2710 -170.1320   \nArizona                    US  2020-05-05 02:32:38  33.7298 -111.4312   \nArkansas                   US  2020-05-05 02:32:38  34.9697  -92.3731   \n\n                Confirmed  Deaths  Recovered  Active  FIPS  Incident_Rate  \\\nProvince_State                                                              \nAlabama              8112     298          0  7814.0     1     173.004440   \nAlaska                370       9        263    98.0     2      61.898891   \nAmerican Samoa          0       0          0     0.0    60       0.000000   \nArizona              8924     362       1632  6930.0     4     122.604025   \nArkansas             3491      80       2016  1395.0     5     134.838300   \n\n                People_Tested  People_Hospitalized  Mortality_Rate       UID  \\\nProvince_State                                                                 \nAlabama              103117.0               1064.0        3.673570  84000001   \nAlaska                21723.0                  NaN        2.432432  84000002   \nAmerican Samoa           83.0                  NaN             NaN        16   \nArizona               85253.0               1357.0        4.056477  84000004   \nArkansas              54442.0                438.0        2.291607  84000005   \n\n               ISO3  Testing_Rate  Hospitalization_Rate  \nProvince_State                                           \nAlabama         USA   2199.173921             13.116371  \nAlaska          USA   3634.134060                   NaN  \nAmerican Samoa  ASM    149.170576                   NaN  \nArizona         USA   1171.264112             15.206186  \nArkansas        USA   2102.797692             12.546548  ",
      "text/html": "<div>\n<style scoped>\n    .dataframe tbody tr th:only-of-type {\n        vertical-align: middle;\n    }\n\n    .dataframe tbody tr th {\n        vertical-align: top;\n    }\n\n    .dataframe thead th {\n        text-align: right;\n    }\n</style>\n<table border=\"1\" class=\"dataframe\">\n  <thead>\n    <tr style=\"text-align: right;\">\n      <th></th>\n      <th>Country_Region</th>\n      <th>Last_Update</th>\n      <th>Lat</th>\n      <th>Long_</th>\n      <th>Confirmed</th>\n      <th>Deaths</th>\n      <th>Recovered</th>\n      <th>Active</th>\n      <th>FIPS</th>\n      <th>Incident_Rate</th>\n      <th>People_Tested</th>\n      <th>People_Hospitalized</th>\n      <th>Mortality_Rate</th>\n      <th>UID</th>\n      <th>ISO3</th>\n      <th>Testing_Rate</th>\n      <th>Hospitalization_Rate</th>\n    </tr>\n    <tr>\n      <th>Province_State</th>\n      <th></th>\n      <th></th>\n      <th></th>\n      <th></th>\n      <th></th>\n      <th></th>\n      <th></th>\n      <th></th>\n      <th></th>\n      <th></th>\n      <th></th>\n      <th></th>\n      <th></th>\n      <th></th>\n      <th></th>\n      <th></th>\n      <th></th>\n    </tr>\n  </thead>\n  <tbody>\n    <tr>\n      <th>Alabama</th>\n      <td>US</td>\n      <td>2020-05-05 02:32:38</td>\n      <td>32.3182</td>\n      <td>-86.9023</td>\n      <td>8112</td>\n      <td>298</td>\n      <td>0</td>\n      <td>7814.0</td>\n      <td>1</td>\n      <td>173.004440</td>\n      <td>103117.0</td>\n      <td>1064.0</td>\n      <td>3.673570</td>\n      <td>84000001</td>\n      <td>USA</td>\n      <td>2199.173921</td>\n      <td>13.116371</td>\n    </tr>\n    <tr>\n      <th>Alaska</th>\n      <td>US</td>\n      <td>2020-05-05 02:32:38</td>\n      <td>61.3707</td>\n      <td>-152.4044</td>\n      <td>370</td>\n      <td>9</td>\n      <td>263</td>\n      <td>98.0</td>\n      <td>2</td>\n      <td>61.898891</td>\n      <td>21723.0</td>\n      <td>NaN</td>\n      <td>2.432432</td>\n      <td>84000002</td>\n      <td>USA</td>\n      <td>3634.134060</td>\n      <td>NaN</td>\n    </tr>\n    <tr>\n      <th>American Samoa</th>\n      <td>US</td>\n      <td>2020-05-05 02:32:38</td>\n      <td>-14.2710</td>\n      <td>-170.1320</td>\n      <td>0</td>\n      <td>0</td>\n      <td>0</td>\n      <td>0.0</td>\n      <td>60</td>\n      <td>0.000000</td>\n      <td>83.0</td>\n      <td>NaN</td>\n      <td>NaN</td>\n      <td>16</td>\n      <td>ASM</td>\n      <td>149.170576</td>\n      <td>NaN</td>\n    </tr>\n    <tr>\n      <th>Arizona</th>\n      <td>US</td>\n      <td>2020-05-05 02:32:38</td>\n      <td>33.7298</td>\n      <td>-111.4312</td>\n      <td>8924</td>\n      <td>362</td>\n      <td>1632</td>\n      <td>6930.0</td>\n      <td>4</td>\n      <td>122.604025</td>\n      <td>85253.0</td>\n      <td>1357.0</td>\n      <td>4.056477</td>\n      <td>84000004</td>\n      <td>USA</td>\n      <td>1171.264112</td>\n      <td>15.206186</td>\n    </tr>\n    <tr>\n      <th>Arkansas</th>\n      <td>US</td>\n      <td>2020-05-05 02:32:38</td>\n      <td>34.9697</td>\n      <td>-92.3731</td>\n      <td>3491</td>\n      <td>80</td>\n      <td>2016</td>\n      <td>1395.0</td>\n      <td>5</td>\n      <td>134.838300</td>\n      <td>54442.0</td>\n      <td>438.0</td>\n      <td>2.291607</td>\n      <td>84000005</td>\n      <td>USA</td>\n      <td>2102.797692</td>\n      <td>12.546548</td>\n    </tr>\n  </tbody>\n</table>\n</div>"
     },
     "metadata": {},
     "execution_count": 8
    }
   ],
   "source": [
    "df_050420_US = pd.read_csv('https://raw.githubusercontent.com/CSSEGISandData/COVID-19/master/csse_covid_19_data/csse_covid_19_daily_reports_us/05-04-2020.csv', index_col=0)\n",
    "df_050420_US.head()"
   ]
  },
  {
   "cell_type": "code",
   "execution_count": null,
   "metadata": {},
   "outputs": [],
   "source": []
  }
 ],
 "metadata": {
  "language_info": {
   "codemirror_mode": {
    "name": "ipython",
    "version": 3
   },
   "file_extension": ".py",
   "mimetype": "text/x-python",
   "name": "python",
   "nbconvert_exporter": "python",
   "pygments_lexer": "ipython3",
   "version": "3.7.6-final"
  },
  "orig_nbformat": 2,
  "kernelspec": {
   "name": "python37664bit81dcc84c0a034d08877f2b0c8a8b28a1",
   "display_name": "Python 3.7.6 64-bit"
  }
 },
 "nbformat": 4,
 "nbformat_minor": 2
}