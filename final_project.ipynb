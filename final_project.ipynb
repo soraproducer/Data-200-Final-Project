{
 "cells": [
  {
   "cell_type": "markdown",
   "metadata": {},
   "source": [
    "# DATA 200 Final Project (Peng Gu, Xi Chen, Kewei Sui)"
   ]
  },
  {
   "cell_type": "code",
   "execution_count": 44,
   "metadata": {},
   "outputs": [],
   "source": [
    "# import all packages\n",
    "import numpy as np\n",
    "import pandas as pd\n",
    "import datetime\n",
    "import matplotlib.pyplot as plt\n",
    "%matplotlib inline\n",
    "\n",
    "import seaborn as sns\n",
    "sns.set(style = \"whitegrid\", \n",
    "        color_codes = True,\n",
    "        font_scale = 1.5)"
   ]
  },
  {
   "cell_type": "code",
   "execution_count": 45,
   "metadata": {},
   "outputs": [
    {
     "output_type": "execute_result",
     "data": {
      "text/plain": "                name  year position                   team  sub_team\n0       LeBron James  2012        F             Miami Heat         1\n1       Kevin Durant  2012        F  Oklahoma City Thunder         1\n2         Tim Duncan  2012        C      San Antonio Spurs         1\n3        Kobe Bryant  2012        G     Los AngelesÊLakers         1\n4         Chris Paul  2012        G          L.A. Clippers         1\n5    Carmelo Anthony  2012        F        New York Knicks         2\n6      Blake Griffin  2012        F          L.A. Clippers         2\n7         Marc Gasol  2012        C      Memphis Grizzlies         2\n8        Tony Parker  2012        G      San Antonio Spurs         2\n9  Russell Westbrook  2012        G  Oklahoma City Thunder         2",
      "text/html": "<div>\n<style scoped>\n    .dataframe tbody tr th:only-of-type {\n        vertical-align: middle;\n    }\n\n    .dataframe tbody tr th {\n        vertical-align: top;\n    }\n\n    .dataframe thead th {\n        text-align: right;\n    }\n</style>\n<table border=\"1\" class=\"dataframe\">\n  <thead>\n    <tr style=\"text-align: right;\">\n      <th></th>\n      <th>name</th>\n      <th>year</th>\n      <th>position</th>\n      <th>team</th>\n      <th>sub_team</th>\n    </tr>\n  </thead>\n  <tbody>\n    <tr>\n      <th>0</th>\n      <td>LeBron James</td>\n      <td>2012</td>\n      <td>F</td>\n      <td>Miami Heat</td>\n      <td>1</td>\n    </tr>\n    <tr>\n      <th>1</th>\n      <td>Kevin Durant</td>\n      <td>2012</td>\n      <td>F</td>\n      <td>Oklahoma City Thunder</td>\n      <td>1</td>\n    </tr>\n    <tr>\n      <th>2</th>\n      <td>Tim Duncan</td>\n      <td>2012</td>\n      <td>C</td>\n      <td>San Antonio Spurs</td>\n      <td>1</td>\n    </tr>\n    <tr>\n      <th>3</th>\n      <td>Kobe Bryant</td>\n      <td>2012</td>\n      <td>G</td>\n      <td>Los AngelesÊLakers</td>\n      <td>1</td>\n    </tr>\n    <tr>\n      <th>4</th>\n      <td>Chris Paul</td>\n      <td>2012</td>\n      <td>G</td>\n      <td>L.A. Clippers</td>\n      <td>1</td>\n    </tr>\n    <tr>\n      <th>5</th>\n      <td>Carmelo Anthony</td>\n      <td>2012</td>\n      <td>F</td>\n      <td>New York Knicks</td>\n      <td>2</td>\n    </tr>\n    <tr>\n      <th>6</th>\n      <td>Blake Griffin</td>\n      <td>2012</td>\n      <td>F</td>\n      <td>L.A. Clippers</td>\n      <td>2</td>\n    </tr>\n    <tr>\n      <th>7</th>\n      <td>Marc Gasol</td>\n      <td>2012</td>\n      <td>C</td>\n      <td>Memphis Grizzlies</td>\n      <td>2</td>\n    </tr>\n    <tr>\n      <th>8</th>\n      <td>Tony Parker</td>\n      <td>2012</td>\n      <td>G</td>\n      <td>San Antonio Spurs</td>\n      <td>2</td>\n    </tr>\n    <tr>\n      <th>9</th>\n      <td>Russell Westbrook</td>\n      <td>2012</td>\n      <td>G</td>\n      <td>Oklahoma City Thunder</td>\n      <td>2</td>\n    </tr>\n  </tbody>\n</table>\n</div>"
     },
     "metadata": {},
     "execution_count": 45
    }
   ],
   "source": [
    "# import all datasets\n",
    "# df_college = pd.read_csv('dataset/college.csv')\n",
    "df_player = pd.read_csv('dataset/2012-18_playerBoxScore.csv')\n",
    "df_allnbatm = pd.read_csv('dataset/all_nba_team_2012_2017.csv',encoding='latin-1')\n",
    "df_player['gmDate'] = pd.to_datetime(df_player['gmDate'], format='%Y-%m-%d')\n",
    "# df_player.head()\n",
    "df_allnbatm.head(10)"
   ]
  },
  {
   "cell_type": "code",
   "execution_count": 46,
   "metadata": {},
   "outputs": [
    {
     "output_type": "execute_result",
     "data": {
      "text/plain": "           gmDate gmTime  seasTyp       playLNm   playFNm teamAbbr teamConf  \\\n155703 2018-04-11  10:30  Regular        Onuaku   Chinanu      HOU     West   \n155704 2018-04-11  10:30  Regular    Bogdanovic    Bogdan      SAC     West   \n155705 2018-04-11  10:30  Regular       Jackson    Justin      SAC     West   \n155706 2018-04-11  10:30  Regular  Cauley-Stein    Willie      SAC     West   \n155707 2018-04-11  10:30  Regular           Fox  De'Aaron      SAC     West   \n155708 2018-04-11  10:30  Regular       Sampson    JaKarr      SAC     West   \n155709 2018-04-11  10:30  Regular         Hield   Chavano      SAC     West   \n155710 2018-04-11  10:30  Regular         Hayes     Nigel      SAC     West   \n155711 2018-04-11  10:30  Regular        Carter   Vincent      SAC     West   \n155712 2018-04-11  10:30  Regular        Cooley      Jack      SAC     West   \n\n          teamDiv teamLoc teamRslt  ...  playORB playDRB playTRB opptAbbr  \\\n155703  Southwest    Away     Loss  ...        1       3       4      SAC   \n155704    Pacific    Home      Win  ...        0       5       5      HOU   \n155705    Pacific    Home      Win  ...        0       4       4      HOU   \n155706    Pacific    Home      Win  ...        1      10      11      HOU   \n155707    Pacific    Home      Win  ...        1       7       8      HOU   \n155708    Pacific    Home      Win  ...        0       4       4      HOU   \n155709    Pacific    Home      Win  ...        2       3       5      HOU   \n155710    Pacific    Home      Win  ...        1       3       4      HOU   \n155711    Pacific    Home      Win  ...        0       3       3      HOU   \n155712    Pacific    Home      Win  ...        1       3       4      HOU   \n\n       opptConf    opptDiv opptLoc opptRslt opptDayOff  seasYear  \n155703     West    Pacific    Home      Win          2      2017  \n155704     West  Southwest    Away     Loss          1      2017  \n155705     West  Southwest    Away     Loss          1      2017  \n155706     West  Southwest    Away     Loss          1      2017  \n155707     West  Southwest    Away     Loss          1      2017  \n155708     West  Southwest    Away     Loss          1      2017  \n155709     West  Southwest    Away     Loss          1      2017  \n155710     West  Southwest    Away     Loss          1      2017  \n155711     West  Southwest    Away     Loss          1      2017  \n155712     West  Southwest    Away     Loss          1      2017  \n\n[10 rows x 52 columns]",
      "text/html": "<div>\n<style scoped>\n    .dataframe tbody tr th:only-of-type {\n        vertical-align: middle;\n    }\n\n    .dataframe tbody tr th {\n        vertical-align: top;\n    }\n\n    .dataframe thead th {\n        text-align: right;\n    }\n</style>\n<table border=\"1\" class=\"dataframe\">\n  <thead>\n    <tr style=\"text-align: right;\">\n      <th></th>\n      <th>gmDate</th>\n      <th>gmTime</th>\n      <th>seasTyp</th>\n      <th>playLNm</th>\n      <th>playFNm</th>\n      <th>teamAbbr</th>\n      <th>teamConf</th>\n      <th>teamDiv</th>\n      <th>teamLoc</th>\n      <th>teamRslt</th>\n      <th>...</th>\n      <th>playORB</th>\n      <th>playDRB</th>\n      <th>playTRB</th>\n      <th>opptAbbr</th>\n      <th>opptConf</th>\n      <th>opptDiv</th>\n      <th>opptLoc</th>\n      <th>opptRslt</th>\n      <th>opptDayOff</th>\n      <th>seasYear</th>\n    </tr>\n  </thead>\n  <tbody>\n    <tr>\n      <th>155703</th>\n      <td>2018-04-11</td>\n      <td>10:30</td>\n      <td>Regular</td>\n      <td>Onuaku</td>\n      <td>Chinanu</td>\n      <td>HOU</td>\n      <td>West</td>\n      <td>Southwest</td>\n      <td>Away</td>\n      <td>Loss</td>\n      <td>...</td>\n      <td>1</td>\n      <td>3</td>\n      <td>4</td>\n      <td>SAC</td>\n      <td>West</td>\n      <td>Pacific</td>\n      <td>Home</td>\n      <td>Win</td>\n      <td>2</td>\n      <td>2017</td>\n    </tr>\n    <tr>\n      <th>155704</th>\n      <td>2018-04-11</td>\n      <td>10:30</td>\n      <td>Regular</td>\n      <td>Bogdanovic</td>\n      <td>Bogdan</td>\n      <td>SAC</td>\n      <td>West</td>\n      <td>Pacific</td>\n      <td>Home</td>\n      <td>Win</td>\n      <td>...</td>\n      <td>0</td>\n      <td>5</td>\n      <td>5</td>\n      <td>HOU</td>\n      <td>West</td>\n      <td>Southwest</td>\n      <td>Away</td>\n      <td>Loss</td>\n      <td>1</td>\n      <td>2017</td>\n    </tr>\n    <tr>\n      <th>155705</th>\n      <td>2018-04-11</td>\n      <td>10:30</td>\n      <td>Regular</td>\n      <td>Jackson</td>\n      <td>Justin</td>\n      <td>SAC</td>\n      <td>West</td>\n      <td>Pacific</td>\n      <td>Home</td>\n      <td>Win</td>\n      <td>...</td>\n      <td>0</td>\n      <td>4</td>\n      <td>4</td>\n      <td>HOU</td>\n      <td>West</td>\n      <td>Southwest</td>\n      <td>Away</td>\n      <td>Loss</td>\n      <td>1</td>\n      <td>2017</td>\n    </tr>\n    <tr>\n      <th>155706</th>\n      <td>2018-04-11</td>\n      <td>10:30</td>\n      <td>Regular</td>\n      <td>Cauley-Stein</td>\n      <td>Willie</td>\n      <td>SAC</td>\n      <td>West</td>\n      <td>Pacific</td>\n      <td>Home</td>\n      <td>Win</td>\n      <td>...</td>\n      <td>1</td>\n      <td>10</td>\n      <td>11</td>\n      <td>HOU</td>\n      <td>West</td>\n      <td>Southwest</td>\n      <td>Away</td>\n      <td>Loss</td>\n      <td>1</td>\n      <td>2017</td>\n    </tr>\n    <tr>\n      <th>155707</th>\n      <td>2018-04-11</td>\n      <td>10:30</td>\n      <td>Regular</td>\n      <td>Fox</td>\n      <td>De'Aaron</td>\n      <td>SAC</td>\n      <td>West</td>\n      <td>Pacific</td>\n      <td>Home</td>\n      <td>Win</td>\n      <td>...</td>\n      <td>1</td>\n      <td>7</td>\n      <td>8</td>\n      <td>HOU</td>\n      <td>West</td>\n      <td>Southwest</td>\n      <td>Away</td>\n      <td>Loss</td>\n      <td>1</td>\n      <td>2017</td>\n    </tr>\n    <tr>\n      <th>155708</th>\n      <td>2018-04-11</td>\n      <td>10:30</td>\n      <td>Regular</td>\n      <td>Sampson</td>\n      <td>JaKarr</td>\n      <td>SAC</td>\n      <td>West</td>\n      <td>Pacific</td>\n      <td>Home</td>\n      <td>Win</td>\n      <td>...</td>\n      <td>0</td>\n      <td>4</td>\n      <td>4</td>\n      <td>HOU</td>\n      <td>West</td>\n      <td>Southwest</td>\n      <td>Away</td>\n      <td>Loss</td>\n      <td>1</td>\n      <td>2017</td>\n    </tr>\n    <tr>\n      <th>155709</th>\n      <td>2018-04-11</td>\n      <td>10:30</td>\n      <td>Regular</td>\n      <td>Hield</td>\n      <td>Chavano</td>\n      <td>SAC</td>\n      <td>West</td>\n      <td>Pacific</td>\n      <td>Home</td>\n      <td>Win</td>\n      <td>...</td>\n      <td>2</td>\n      <td>3</td>\n      <td>5</td>\n      <td>HOU</td>\n      <td>West</td>\n      <td>Southwest</td>\n      <td>Away</td>\n      <td>Loss</td>\n      <td>1</td>\n      <td>2017</td>\n    </tr>\n    <tr>\n      <th>155710</th>\n      <td>2018-04-11</td>\n      <td>10:30</td>\n      <td>Regular</td>\n      <td>Hayes</td>\n      <td>Nigel</td>\n      <td>SAC</td>\n      <td>West</td>\n      <td>Pacific</td>\n      <td>Home</td>\n      <td>Win</td>\n      <td>...</td>\n      <td>1</td>\n      <td>3</td>\n      <td>4</td>\n      <td>HOU</td>\n      <td>West</td>\n      <td>Southwest</td>\n      <td>Away</td>\n      <td>Loss</td>\n      <td>1</td>\n      <td>2017</td>\n    </tr>\n    <tr>\n      <th>155711</th>\n      <td>2018-04-11</td>\n      <td>10:30</td>\n      <td>Regular</td>\n      <td>Carter</td>\n      <td>Vincent</td>\n      <td>SAC</td>\n      <td>West</td>\n      <td>Pacific</td>\n      <td>Home</td>\n      <td>Win</td>\n      <td>...</td>\n      <td>0</td>\n      <td>3</td>\n      <td>3</td>\n      <td>HOU</td>\n      <td>West</td>\n      <td>Southwest</td>\n      <td>Away</td>\n      <td>Loss</td>\n      <td>1</td>\n      <td>2017</td>\n    </tr>\n    <tr>\n      <th>155712</th>\n      <td>2018-04-11</td>\n      <td>10:30</td>\n      <td>Regular</td>\n      <td>Cooley</td>\n      <td>Jack</td>\n      <td>SAC</td>\n      <td>West</td>\n      <td>Pacific</td>\n      <td>Home</td>\n      <td>Win</td>\n      <td>...</td>\n      <td>1</td>\n      <td>3</td>\n      <td>4</td>\n      <td>HOU</td>\n      <td>West</td>\n      <td>Southwest</td>\n      <td>Away</td>\n      <td>Loss</td>\n      <td>1</td>\n      <td>2017</td>\n    </tr>\n  </tbody>\n</table>\n<p>10 rows × 52 columns</p>\n</div>"
     },
     "metadata": {},
     "execution_count": 46
    }
   ],
   "source": [
    "start_dates = ['2012-10-30', '2013-10-29', '2014-10-28', '2015-10-27','2016-10-25','2017-10-17','2018-10-16']\n",
    "for i in range(len(start_dates)):\n",
    "    start_dates[i] = datetime.datetime.strptime(start_dates[i],'%Y-%m-%d')\n",
    "# print(start_dates)\n",
    "def setSeasons(gm_date):\n",
    "    for i in range(len(start_dates) - 1):\n",
    "        if gm_date >= start_dates[i] and gm_date < start_dates[i + 1]:\n",
    "            return start_dates[i].year\n",
    "df_player[\"seasYear\"] = df_player['gmDate'].apply(lambda x:setSeasons(x))\n",
    "df_player.tail(10)"
   ]
  },
  {
   "cell_type": "code",
   "execution_count": 47,
   "metadata": {},
   "outputs": [
    {
     "output_type": "execute_result",
     "data": {
      "text/plain": "Index(['gmDate', 'gmTime', 'seasTyp', 'playLNm', 'playFNm', 'teamAbbr',\n       'teamConf', 'teamDiv', 'teamLoc', 'teamRslt', 'teamDayOff', 'offLNm1',\n       'offFNm1', 'offLNm2', 'offFNm2', 'offLNm3', 'offFNm3', 'playDispNm',\n       'playStat', 'playMin', 'playPos', 'playHeight', 'playWeight',\n       'playBDate', 'playPTS', 'playAST', 'playTO', 'playSTL', 'playBLK',\n       'playPF', 'playFGA', 'playFGM', 'playFG%', 'play2PA', 'play2PM',\n       'play2P%', 'play3PA', 'play3PM', 'play3P%', 'playFTA', 'playFTM',\n       'playFT%', 'playORB', 'playDRB', 'playTRB', 'opptAbbr', 'opptConf',\n       'opptDiv', 'opptLoc', 'opptRslt', 'opptDayOff', 'seasYear'],\n      dtype='object')"
     },
     "metadata": {},
     "execution_count": 47
    }
   ],
   "source": [
    "df_player = df_player[df_player.seasTyp != 'Pre']\n",
    "df_player.columns"
   ]
  },
  {
   "cell_type": "code",
   "execution_count": 48,
   "metadata": {},
   "outputs": [
    {
     "output_type": "execute_result",
     "data": {
      "text/plain": "      gmDate gmTime  seasTyp    playLNm  playFNm teamAbbr teamConf teamLoc  \\\n0 2012-10-30  19:00  Regular      Price     A.J.      WAS     East    Away   \n1 2012-10-30  19:00  Regular      Ariza   Trevor      WAS     East    Away   \n2 2012-10-30  19:00  Regular     Okafor    Emeka      WAS     East    Away   \n3 2012-10-30  19:00  Regular       Beal  Bradley      WAS     East    Away   \n4 2012-10-30  19:00  Regular     Booker   Trevor      WAS     East    Away   \n5 2012-10-30  19:00  Regular   Crawford   Jordan      WAS     East    Away   \n6 2012-10-30  19:00  Regular    Webster  Martell      WAS     East    Away   \n7 2012-10-30  19:00  Regular     Vesely      Jan      WAS     East    Away   \n8 2012-10-30  19:00  Regular  Singleton    Chris      WAS     East    Away   \n9 2012-10-30  19:00  Regular     Barron     Earl      WAS     East    Away   \n\n  teamRslt       playDispNm  ... playFTM  playFT% playORB  playDRB  playTRB  \\\n0     Loss       A.J. Price  ...       1     1.00       1        1        2   \n1     Loss     Trevor Ariza  ...       1     0.50       1        2        3   \n2     Loss     Emeka Okafor  ...       2     0.50       5        2        7   \n3     Loss     Bradley Beal  ...       2     1.00       0        3        3   \n4     Loss    Trevor Booker  ...       0     0.00       1        0        1   \n5     Loss  Jordan Crawford  ...       3     0.75       1        2        3   \n6     Loss  Martell Webster  ...       0     0.00       0        3        3   \n7     Loss       Jan Vesely  ...       1     0.25       3        1        4   \n8     Loss  Chris Singleton  ...       0     0.00       2        2        4   \n9     Loss      Earl Barron  ...       0     0.00       4        4        8   \n\n  opptAbbr  opptConf  opptLoc  opptRslt  seasYear  \n0      CLE      East     Home       Win      2012  \n1      CLE      East     Home       Win      2012  \n2      CLE      East     Home       Win      2012  \n3      CLE      East     Home       Win      2012  \n4      CLE      East     Home       Win      2012  \n5      CLE      East     Home       Win      2012  \n6      CLE      East     Home       Win      2012  \n7      CLE      East     Home       Win      2012  \n8      CLE      East     Home       Win      2012  \n9      CLE      East     Home       Win      2012  \n\n[10 rows x 42 columns]",
      "text/html": "<div>\n<style scoped>\n    .dataframe tbody tr th:only-of-type {\n        vertical-align: middle;\n    }\n\n    .dataframe tbody tr th {\n        vertical-align: top;\n    }\n\n    .dataframe thead th {\n        text-align: right;\n    }\n</style>\n<table border=\"1\" class=\"dataframe\">\n  <thead>\n    <tr style=\"text-align: right;\">\n      <th></th>\n      <th>gmDate</th>\n      <th>gmTime</th>\n      <th>seasTyp</th>\n      <th>playLNm</th>\n      <th>playFNm</th>\n      <th>teamAbbr</th>\n      <th>teamConf</th>\n      <th>teamLoc</th>\n      <th>teamRslt</th>\n      <th>playDispNm</th>\n      <th>...</th>\n      <th>playFTM</th>\n      <th>playFT%</th>\n      <th>playORB</th>\n      <th>playDRB</th>\n      <th>playTRB</th>\n      <th>opptAbbr</th>\n      <th>opptConf</th>\n      <th>opptLoc</th>\n      <th>opptRslt</th>\n      <th>seasYear</th>\n    </tr>\n  </thead>\n  <tbody>\n    <tr>\n      <th>0</th>\n      <td>2012-10-30</td>\n      <td>19:00</td>\n      <td>Regular</td>\n      <td>Price</td>\n      <td>A.J.</td>\n      <td>WAS</td>\n      <td>East</td>\n      <td>Away</td>\n      <td>Loss</td>\n      <td>A.J. Price</td>\n      <td>...</td>\n      <td>1</td>\n      <td>1.00</td>\n      <td>1</td>\n      <td>1</td>\n      <td>2</td>\n      <td>CLE</td>\n      <td>East</td>\n      <td>Home</td>\n      <td>Win</td>\n      <td>2012</td>\n    </tr>\n    <tr>\n      <th>1</th>\n      <td>2012-10-30</td>\n      <td>19:00</td>\n      <td>Regular</td>\n      <td>Ariza</td>\n      <td>Trevor</td>\n      <td>WAS</td>\n      <td>East</td>\n      <td>Away</td>\n      <td>Loss</td>\n      <td>Trevor Ariza</td>\n      <td>...</td>\n      <td>1</td>\n      <td>0.50</td>\n      <td>1</td>\n      <td>2</td>\n      <td>3</td>\n      <td>CLE</td>\n      <td>East</td>\n      <td>Home</td>\n      <td>Win</td>\n      <td>2012</td>\n    </tr>\n    <tr>\n      <th>2</th>\n      <td>2012-10-30</td>\n      <td>19:00</td>\n      <td>Regular</td>\n      <td>Okafor</td>\n      <td>Emeka</td>\n      <td>WAS</td>\n      <td>East</td>\n      <td>Away</td>\n      <td>Loss</td>\n      <td>Emeka Okafor</td>\n      <td>...</td>\n      <td>2</td>\n      <td>0.50</td>\n      <td>5</td>\n      <td>2</td>\n      <td>7</td>\n      <td>CLE</td>\n      <td>East</td>\n      <td>Home</td>\n      <td>Win</td>\n      <td>2012</td>\n    </tr>\n    <tr>\n      <th>3</th>\n      <td>2012-10-30</td>\n      <td>19:00</td>\n      <td>Regular</td>\n      <td>Beal</td>\n      <td>Bradley</td>\n      <td>WAS</td>\n      <td>East</td>\n      <td>Away</td>\n      <td>Loss</td>\n      <td>Bradley Beal</td>\n      <td>...</td>\n      <td>2</td>\n      <td>1.00</td>\n      <td>0</td>\n      <td>3</td>\n      <td>3</td>\n      <td>CLE</td>\n      <td>East</td>\n      <td>Home</td>\n      <td>Win</td>\n      <td>2012</td>\n    </tr>\n    <tr>\n      <th>4</th>\n      <td>2012-10-30</td>\n      <td>19:00</td>\n      <td>Regular</td>\n      <td>Booker</td>\n      <td>Trevor</td>\n      <td>WAS</td>\n      <td>East</td>\n      <td>Away</td>\n      <td>Loss</td>\n      <td>Trevor Booker</td>\n      <td>...</td>\n      <td>0</td>\n      <td>0.00</td>\n      <td>1</td>\n      <td>0</td>\n      <td>1</td>\n      <td>CLE</td>\n      <td>East</td>\n      <td>Home</td>\n      <td>Win</td>\n      <td>2012</td>\n    </tr>\n    <tr>\n      <th>5</th>\n      <td>2012-10-30</td>\n      <td>19:00</td>\n      <td>Regular</td>\n      <td>Crawford</td>\n      <td>Jordan</td>\n      <td>WAS</td>\n      <td>East</td>\n      <td>Away</td>\n      <td>Loss</td>\n      <td>Jordan Crawford</td>\n      <td>...</td>\n      <td>3</td>\n      <td>0.75</td>\n      <td>1</td>\n      <td>2</td>\n      <td>3</td>\n      <td>CLE</td>\n      <td>East</td>\n      <td>Home</td>\n      <td>Win</td>\n      <td>2012</td>\n    </tr>\n    <tr>\n      <th>6</th>\n      <td>2012-10-30</td>\n      <td>19:00</td>\n      <td>Regular</td>\n      <td>Webster</td>\n      <td>Martell</td>\n      <td>WAS</td>\n      <td>East</td>\n      <td>Away</td>\n      <td>Loss</td>\n      <td>Martell Webster</td>\n      <td>...</td>\n      <td>0</td>\n      <td>0.00</td>\n      <td>0</td>\n      <td>3</td>\n      <td>3</td>\n      <td>CLE</td>\n      <td>East</td>\n      <td>Home</td>\n      <td>Win</td>\n      <td>2012</td>\n    </tr>\n    <tr>\n      <th>7</th>\n      <td>2012-10-30</td>\n      <td>19:00</td>\n      <td>Regular</td>\n      <td>Vesely</td>\n      <td>Jan</td>\n      <td>WAS</td>\n      <td>East</td>\n      <td>Away</td>\n      <td>Loss</td>\n      <td>Jan Vesely</td>\n      <td>...</td>\n      <td>1</td>\n      <td>0.25</td>\n      <td>3</td>\n      <td>1</td>\n      <td>4</td>\n      <td>CLE</td>\n      <td>East</td>\n      <td>Home</td>\n      <td>Win</td>\n      <td>2012</td>\n    </tr>\n    <tr>\n      <th>8</th>\n      <td>2012-10-30</td>\n      <td>19:00</td>\n      <td>Regular</td>\n      <td>Singleton</td>\n      <td>Chris</td>\n      <td>WAS</td>\n      <td>East</td>\n      <td>Away</td>\n      <td>Loss</td>\n      <td>Chris Singleton</td>\n      <td>...</td>\n      <td>0</td>\n      <td>0.00</td>\n      <td>2</td>\n      <td>2</td>\n      <td>4</td>\n      <td>CLE</td>\n      <td>East</td>\n      <td>Home</td>\n      <td>Win</td>\n      <td>2012</td>\n    </tr>\n    <tr>\n      <th>9</th>\n      <td>2012-10-30</td>\n      <td>19:00</td>\n      <td>Regular</td>\n      <td>Barron</td>\n      <td>Earl</td>\n      <td>WAS</td>\n      <td>East</td>\n      <td>Away</td>\n      <td>Loss</td>\n      <td>Earl Barron</td>\n      <td>...</td>\n      <td>0</td>\n      <td>0.00</td>\n      <td>4</td>\n      <td>4</td>\n      <td>8</td>\n      <td>CLE</td>\n      <td>East</td>\n      <td>Home</td>\n      <td>Win</td>\n      <td>2012</td>\n    </tr>\n  </tbody>\n</table>\n<p>10 rows × 42 columns</p>\n</div>"
     },
     "metadata": {},
     "execution_count": 48
    }
   ],
   "source": [
    "# def fillEmptyOffName(curr_row):\n",
    "    # if pd.isna(curr_row['offLNm3']):\n",
    "    #     curr_row['offLNm3'] = curr_row['offLNm2']\n",
    "    # if pd.isna(curr_row['offFNm3']):\n",
    "    #     curr_row['offFNm3'] = curr_row['offFNm2']\n",
    "df_player['offLNm3'] = df_player['offLNm3'].fillna(df_player['offLNm2'])\n",
    "df_player['offFNm3'] = df_player['offFNm3'].fillna(df_player['offFNm2'])\n",
    "\n",
    "# df_player = df_player.apply(lambda x : fillEmptyOffName(x), axis=1)\n",
    "df_player = df_player.drop(columns=['teamDiv', 'teamDayOff', 'offLNm1', 'offFNm1', 'offLNm2', 'offFNm2', \\\n",
    "      'offLNm3', 'offFNm3', 'opptDiv', 'opptDayOff'])\n",
    "df_player[\"playPos\"] = df_player[\"playPos\"] .replace({'PG':'G', 'SG':'G', 'SF':'F', 'PF':'F'})\n",
    "df_player.head(10)"
   ]
  },
  {
   "cell_type": "code",
   "execution_count": 49,
   "metadata": {},
   "outputs": [
    {
     "output_type": "execute_result",
     "data": {
      "text/plain": "playStat    playDispNm  seasYear  Bench  Starter\n0         A.J. Hammons      2016   22.0      0.0\n1           A.J. Price      2012   35.0     22.0\n2           A.J. Price      2013   28.0      0.0\n3           A.J. Price      2014   26.0      0.0\n4         Aaron Brooks      2012   33.0     20.0\n5         Aaron Brooks      2013   60.0     12.0\n6         Aaron Brooks      2014   61.0     21.0\n7         Aaron Brooks      2015   69.0      0.0\n8         Aaron Brooks      2016   65.0      0.0\n9         Aaron Brooks      2017   31.0      1.0",
      "text/html": "<div>\n<style scoped>\n    .dataframe tbody tr th:only-of-type {\n        vertical-align: middle;\n    }\n\n    .dataframe tbody tr th {\n        vertical-align: top;\n    }\n\n    .dataframe thead th {\n        text-align: right;\n    }\n</style>\n<table border=\"1\" class=\"dataframe\">\n  <thead>\n    <tr style=\"text-align: right;\">\n      <th>playStat</th>\n      <th>playDispNm</th>\n      <th>seasYear</th>\n      <th>Bench</th>\n      <th>Starter</th>\n    </tr>\n  </thead>\n  <tbody>\n    <tr>\n      <th>0</th>\n      <td>A.J. Hammons</td>\n      <td>2016</td>\n      <td>22.0</td>\n      <td>0.0</td>\n    </tr>\n    <tr>\n      <th>1</th>\n      <td>A.J. Price</td>\n      <td>2012</td>\n      <td>35.0</td>\n      <td>22.0</td>\n    </tr>\n    <tr>\n      <th>2</th>\n      <td>A.J. Price</td>\n      <td>2013</td>\n      <td>28.0</td>\n      <td>0.0</td>\n    </tr>\n    <tr>\n      <th>3</th>\n      <td>A.J. Price</td>\n      <td>2014</td>\n      <td>26.0</td>\n      <td>0.0</td>\n    </tr>\n    <tr>\n      <th>4</th>\n      <td>Aaron Brooks</td>\n      <td>2012</td>\n      <td>33.0</td>\n      <td>20.0</td>\n    </tr>\n    <tr>\n      <th>5</th>\n      <td>Aaron Brooks</td>\n      <td>2013</td>\n      <td>60.0</td>\n      <td>12.0</td>\n    </tr>\n    <tr>\n      <th>6</th>\n      <td>Aaron Brooks</td>\n      <td>2014</td>\n      <td>61.0</td>\n      <td>21.0</td>\n    </tr>\n    <tr>\n      <th>7</th>\n      <td>Aaron Brooks</td>\n      <td>2015</td>\n      <td>69.0</td>\n      <td>0.0</td>\n    </tr>\n    <tr>\n      <th>8</th>\n      <td>Aaron Brooks</td>\n      <td>2016</td>\n      <td>65.0</td>\n      <td>0.0</td>\n    </tr>\n    <tr>\n      <th>9</th>\n      <td>Aaron Brooks</td>\n      <td>2017</td>\n      <td>31.0</td>\n      <td>1.0</td>\n    </tr>\n  </tbody>\n</table>\n</div>"
     },
     "metadata": {},
     "execution_count": 49
    }
   ],
   "source": [
    "player_starter_bench = pd.pivot_table(data=df_player, index=['playDispNm','seasYear'],columns='playStat',values='teamAbbr',aggfunc='count')\n",
    "player_starter_bench = player_starter_bench.fillna(0).reset_index()\n",
    "player_starter_bench.head(10)"
   ]
  },
  {
   "cell_type": "code",
   "execution_count": 54,
   "metadata": {},
   "outputs": [
    {
     "output_type": "execute_result",
     "data": {
      "text/plain": "            playDispNm  seasYear  Bench  Starter position  \\\n9           Chris Paul      2012    0.0     70.0        G   \n42        Kevin Durant      2012    0.0     81.0        F   \n50         Kobe Bryant      2012    0.0     78.0        G   \n57        LeBron James      2012    0.0     76.0        F   \n79          Tim Duncan      2012    0.0     69.0        C   \n..                 ...       ...    ...      ...      ...   \n35        Jimmy Butler      2017    0.0     59.0        F   \n39  Karl-Anthony Towns      2017    0.0     82.0        C   \n68         Paul George      2017    0.0     79.0        F   \n78       Stephen Curry      2017    0.0     51.0        G   \n83      Victor Oladipo      2017    0.0     75.0        G   \n\n                      team  sub_team  \n9            L.A. Clippers         1  \n42   Oklahoma City Thunder         1  \n50      Los AngelesÊLakers         1  \n57              Miami Heat         1  \n79       San Antonio Spurs         1  \n..                     ...       ...  \n35  Minnesota Timberwolves         3  \n39  Minnesota Timberwolves         3  \n68   Oklahoma City Thunder         3  \n78   Golden State Warriors         3  \n83          Indiana Pacers         3  \n\n[84 rows x 7 columns]",
      "text/html": "<div>\n<style scoped>\n    .dataframe tbody tr th:only-of-type {\n        vertical-align: middle;\n    }\n\n    .dataframe tbody tr th {\n        vertical-align: top;\n    }\n\n    .dataframe thead th {\n        text-align: right;\n    }\n</style>\n<table border=\"1\" class=\"dataframe\">\n  <thead>\n    <tr style=\"text-align: right;\">\n      <th></th>\n      <th>playDispNm</th>\n      <th>seasYear</th>\n      <th>Bench</th>\n      <th>Starter</th>\n      <th>position</th>\n      <th>team</th>\n      <th>sub_team</th>\n    </tr>\n  </thead>\n  <tbody>\n    <tr>\n      <th>9</th>\n      <td>Chris Paul</td>\n      <td>2012</td>\n      <td>0.0</td>\n      <td>70.0</td>\n      <td>G</td>\n      <td>L.A. Clippers</td>\n      <td>1</td>\n    </tr>\n    <tr>\n      <th>42</th>\n      <td>Kevin Durant</td>\n      <td>2012</td>\n      <td>0.0</td>\n      <td>81.0</td>\n      <td>F</td>\n      <td>Oklahoma City Thunder</td>\n      <td>1</td>\n    </tr>\n    <tr>\n      <th>50</th>\n      <td>Kobe Bryant</td>\n      <td>2012</td>\n      <td>0.0</td>\n      <td>78.0</td>\n      <td>G</td>\n      <td>Los AngelesÊLakers</td>\n      <td>1</td>\n    </tr>\n    <tr>\n      <th>57</th>\n      <td>LeBron James</td>\n      <td>2012</td>\n      <td>0.0</td>\n      <td>76.0</td>\n      <td>F</td>\n      <td>Miami Heat</td>\n      <td>1</td>\n    </tr>\n    <tr>\n      <th>79</th>\n      <td>Tim Duncan</td>\n      <td>2012</td>\n      <td>0.0</td>\n      <td>69.0</td>\n      <td>C</td>\n      <td>San Antonio Spurs</td>\n      <td>1</td>\n    </tr>\n    <tr>\n      <th>...</th>\n      <td>...</td>\n      <td>...</td>\n      <td>...</td>\n      <td>...</td>\n      <td>...</td>\n      <td>...</td>\n      <td>...</td>\n    </tr>\n    <tr>\n      <th>35</th>\n      <td>Jimmy Butler</td>\n      <td>2017</td>\n      <td>0.0</td>\n      <td>59.0</td>\n      <td>F</td>\n      <td>Minnesota Timberwolves</td>\n      <td>3</td>\n    </tr>\n    <tr>\n      <th>39</th>\n      <td>Karl-Anthony Towns</td>\n      <td>2017</td>\n      <td>0.0</td>\n      <td>82.0</td>\n      <td>C</td>\n      <td>Minnesota Timberwolves</td>\n      <td>3</td>\n    </tr>\n    <tr>\n      <th>68</th>\n      <td>Paul George</td>\n      <td>2017</td>\n      <td>0.0</td>\n      <td>79.0</td>\n      <td>F</td>\n      <td>Oklahoma City Thunder</td>\n      <td>3</td>\n    </tr>\n    <tr>\n      <th>78</th>\n      <td>Stephen Curry</td>\n      <td>2017</td>\n      <td>0.0</td>\n      <td>51.0</td>\n      <td>G</td>\n      <td>Golden State Warriors</td>\n      <td>3</td>\n    </tr>\n    <tr>\n      <th>83</th>\n      <td>Victor Oladipo</td>\n      <td>2017</td>\n      <td>0.0</td>\n      <td>75.0</td>\n      <td>G</td>\n      <td>Indiana Pacers</td>\n      <td>3</td>\n    </tr>\n  </tbody>\n</table>\n<p>84 rows × 7 columns</p>\n</div>"
     },
     "metadata": {},
     "execution_count": 54
    }
   ],
   "source": [
    "allstar_bench_starter = player_starter_bench.merge(right=df_allnbatm, how='inner', left_on=['playDispNm', 'seasYear'], right_on=['name','year'])\n",
    "allstar_bench_starter.drop(columns=['name', 'year'], inplace=True)\n",
    "allstar_bench_starter.sort_values(by=['seasYear', 'sub_team'], inplace=True, ascending=True)\n",
    "allstar_bench_starter"
   ]
  },
  {
   "cell_type": "code",
   "execution_count": null,
   "metadata": {},
   "outputs": [],
   "source": []
  }
 ],
 "metadata": {
  "language_info": {
   "codemirror_mode": {
    "name": "ipython",
    "version": 3
   },
   "file_extension": ".py",
   "mimetype": "text/x-python",
   "name": "python",
   "nbconvert_exporter": "python",
   "pygments_lexer": "ipython3",
   "version": "3.7.4-final"
  },
  "orig_nbformat": 2,
  "kernelspec": {
   "name": "python37432bitvenvvenv44deada86dba45d7a8ff0578f91cb8fa",
   "display_name": "Python 3.7.4 32-bit ('venv': venv)"
  }
 },
 "nbformat": 4,
 "nbformat_minor": 2
}